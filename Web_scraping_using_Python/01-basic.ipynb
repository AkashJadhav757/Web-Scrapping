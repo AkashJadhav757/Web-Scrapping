{
 "cells": [
  {
   "cell_type": "code",
   "execution_count": 1,
   "id": "0114a3ba",
   "metadata": {},
   "outputs": [
    {
     "name": "stderr",
     "output_type": "stream",
     "text": [
      "C:\\Users\\Dell\\AppData\\Local\\Programs\\Python\\Python310\\lib\\site-packages\\requests\\__init__.py:109: RequestsDependencyWarning: urllib3 (2.3.0) or chardet (3.0.4)/charset_normalizer (3.0.1) doesn't match a supported version!\n",
      "  warnings.warn(\n"
     ]
    }
   ],
   "source": [
    "import requests\n",
    "from bs4 import BeautifulSoup\n",
    "import pandas as pd"
   ]
  },
  {
   "cell_type": "code",
   "execution_count": 2,
   "id": "831789a7",
   "metadata": {},
   "outputs": [],
   "source": [
    "URL = \"https://www.magicbricks.com/property-for-sale/residential-real-estate?bedroom=2,3&proptype=Multistorey-Apartment,Builder-Floor-Apartment,Penthouse,Studio-Apartment,Residential-House,Villa&cityName=Mumbai&BudgetMin=5-Lacs\""
   ]
  },
  {
   "cell_type": "code",
   "execution_count": 3,
   "id": "c98882c2",
   "metadata": {},
   "outputs": [],
   "source": [
    "HEADERS = {\n",
    "    \"User-Agent\": \"Mozilla/5.0 (Windows NT 10.0; Win64; x64) AppleWebKit/537.36 (KHTML, like Gecko) Chrome/134.0.0.0 Safari/537.36\",\n",
    "    \"Accept-Language\": \"en-US, en;q=0.5\"\n",
    "}\n"
   ]
  },
  {
   "cell_type": "code",
   "execution_count": 4,
   "id": "3c703f06",
   "metadata": {},
   "outputs": [],
   "source": [
    "#HTTPS requests\n",
    "\n",
    "webpage = requests.get(URL,headers=HEADERS)"
   ]
  },
  {
   "cell_type": "code",
   "execution_count": 5,
   "id": "2ca1c74f",
   "metadata": {},
   "outputs": [
    {
     "data": {
      "text/plain": [
       "<Response [200]>"
      ]
     },
     "execution_count": 5,
     "metadata": {},
     "output_type": "execute_result"
    }
   ],
   "source": [
    "webpage"
   ]
  },
  {
   "cell_type": "code",
   "execution_count": 6,
   "id": "65f17585",
   "metadata": {},
   "outputs": [],
   "source": [
    "#the webpage will be parsed into HTML\n",
    "\n",
    "soup = BeautifulSoup(webpage.content,\"html.parser\")"
   ]
  },
  {
   "cell_type": "code",
   "execution_count": 7,
   "id": "41f882d9",
   "metadata": {},
   "outputs": [],
   "source": [
    "#soup"
   ]
  },
  {
   "cell_type": "code",
   "execution_count": 8,
   "id": "91d4b24a",
   "metadata": {},
   "outputs": [],
   "source": [
    "#Fetch links as LIST of tag object\n",
    "\n",
    "links = soup.find_all(\"a\",attrs={'class':'mb-srp__card__developer--name'})"
   ]
  },
  {
   "cell_type": "code",
   "execution_count": 9,
   "id": "9977553a",
   "metadata": {},
   "outputs": [],
   "source": [
    "#links"
   ]
  },
  {
   "cell_type": "code",
   "execution_count": 10,
   "id": "bbb04408",
   "metadata": {},
   "outputs": [],
   "source": [
    "link = links[0].get('href')"
   ]
  },
  {
   "cell_type": "code",
   "execution_count": 11,
   "id": "868fa882",
   "metadata": {},
   "outputs": [
    {
     "data": {
      "text/plain": [
       "'https://www.magicbricks.com/l&t-rejuve-360-mulund-west-mumbai-pdpid-4d4235313238303331'"
      ]
     },
     "execution_count": 11,
     "metadata": {},
     "output_type": "execute_result"
    }
   ],
   "source": [
    "link"
   ]
  },
  {
   "cell_type": "code",
   "execution_count": 12,
   "id": "f989464c",
   "metadata": {},
   "outputs": [],
   "source": [
    "new_webpage = requests.get(link,headers=HEADERS)"
   ]
  },
  {
   "cell_type": "code",
   "execution_count": 13,
   "id": "cc94c28f",
   "metadata": {},
   "outputs": [],
   "source": [
    "new_soup = BeautifulSoup(new_webpage.content,\"html.parser\")"
   ]
  },
  {
   "cell_type": "code",
   "execution_count": 35,
   "id": "ff6736c0",
   "metadata": {},
   "outputs": [
    {
     "data": {
      "text/plain": [
       "'L&T Rejuve 3605'"
      ]
     },
     "execution_count": 35,
     "metadata": {},
     "output_type": "execute_result"
    }
   ],
   "source": [
    "new_soup.find(\"div\",attrs={\"class\":'pdp__name'}).text.split(\"Reviews\")[0].strip()"
   ]
  },
  {
   "cell_type": "code",
   "execution_count": 31,
   "id": "15e4ef3b",
   "metadata": {},
   "outputs": [
    {
     "data": {
      "text/plain": [
       "'₹ 1.65 Cr - ₹ 3.96 Cr'"
      ]
     },
     "execution_count": 31,
     "metadata": {},
     "output_type": "execute_result"
    }
   ],
   "source": [
    "new_soup.find(\"div\",attrs={\"class\":'pdp__pricecard--price'}).text"
   ]
  },
  {
   "cell_type": "code",
   "execution_count": 44,
   "id": "1a940107",
   "metadata": {},
   "outputs": [
    {
     "data": {
      "text/plain": [
       "'5 Reviews'"
      ]
     },
     "execution_count": 44,
     "metadata": {},
     "output_type": "execute_result"
    }
   ],
   "source": [
    "new_soup.find(\"a\",attrs={\"class\":'pdp__review--count'}).text"
   ]
  },
  {
   "cell_type": "code",
   "execution_count": 26,
   "id": "26370fe0",
   "metadata": {},
   "outputs": [
    {
     "data": {
      "text/plain": [
       "'L&T Rejuve 3605 Reviews4.5'"
      ]
     },
     "execution_count": 26,
     "metadata": {},
     "output_type": "execute_result"
    }
   ],
   "source": [
    "new_soup.find(\"div\",attrs={\"class\":'pdp-layout'}).find(\"div\",attrs={\"class\":\"pdp__name\"}).text"
   ]
  },
  {
   "cell_type": "code",
   "execution_count": 23,
   "id": "61317e80",
   "metadata": {},
   "outputs": [
    {
     "data": {
      "text/plain": [
       "'L&T Rejuve 3605 Reviews4.5'"
      ]
     },
     "execution_count": 23,
     "metadata": {},
     "output_type": "execute_result"
    }
   ],
   "source": [
    "data.find(\"div\",attrs={\"class\":\"pdp__name\"}).text"
   ]
  },
  {
   "cell_type": "code",
   "execution_count": 25,
   "id": "7659fd1d",
   "metadata": {},
   "outputs": [
    {
     "data": {
      "text/plain": [
       "'L&T Rejuve 3605 Reviews4.5'"
      ]
     },
     "execution_count": 25,
     "metadata": {},
     "output_type": "execute_result"
    }
   ],
   "source": [
    "data"
   ]
  },
  {
   "cell_type": "code",
   "execution_count": 29,
   "id": "f49435bf",
   "metadata": {},
   "outputs": [
    {
     "data": {
      "text/plain": [
       "'5 Reviews'"
      ]
     },
     "execution_count": 29,
     "metadata": {},
     "output_type": "execute_result"
    }
   ],
   "source": [
    "new_soup.find(\"div\",attrs={\"class\":'pdp-layout'}).find(\"a\",attrs={\"class\":'pdp__review--count'}).text"
   ]
  },
  {
   "cell_type": "code",
   "execution_count": null,
   "id": "e1643dda",
   "metadata": {},
   "outputs": [],
   "source": []
  },
  {
   "cell_type": "code",
   "execution_count": null,
   "id": "8fb2773d",
   "metadata": {},
   "outputs": [],
   "source": [
    "import requests\n",
    "from requests.adapters import HTTPAdapter\n",
    "from urllib3.util.retry import Retry\n",
    "from bs4 import BeautifulSoup\n",
    "\n",
    "URL = \"https://www.amazon.com/s?k=playstation&crid=27RI89K07OC0V&sprefix=playstation%2Caps%2C328&ref=nb_sb_noss_1\"\n",
    "\n",
    "HEADERS = {\n",
    "    \"User-Agent\": \"Mozilla/5.0 (Windows NT 10.0; Win64; x64) AppleWebKit/537.36 (KHTML, like Gecko) Chrome/134.0.0.0 Safari/537.36\",\n",
    "    \"Accept-Language\": \"en-US, en;q=0.5\"\n",
    "}\n",
    "\n",
    "session = requests.Session()\n",
    "retry = Retry(total=5, backoff_factor=1, status_forcelist=[503, 500, 429])\n",
    "adapter = HTTPAdapter(max_retries=retry)\n",
    "session.mount(\"https://\", adapter)\n",
    "\n",
    "webpage = session.get(URL, headers=HEADERS)\n",
    "\n",
    "if webpage.status_code == 200:\n",
    "    soup = BeautifulSoup(webpage.content, \"html.parser\")\n",
    "    print(soup.prettify())  # Print the parsed HTML\n",
    "else:\n",
    "    print(f\"Request failed with status code {webpage.status_code}\")\n"
   ]
  },
  {
   "cell_type": "code",
   "execution_count": null,
   "id": "242e55b5",
   "metadata": {},
   "outputs": [],
   "source": [
    "proxies = {\n",
    "    \"http\": \"http://your-proxy-address:port\",\n",
    "    \"https\": \"https://your-proxy-address:port\"\n",
    "}\n",
    "\n",
    "webpage = requests.get(URL, headers=HEADERS, proxies=proxies)\n"
   ]
  },
  {
   "cell_type": "code",
   "execution_count": null,
   "id": "4328458f",
   "metadata": {},
   "outputs": [],
   "source": [
    "from selenium import webdriver\n",
    "from selenium.webdriver.chrome.service import Service\n",
    "from selenium.webdriver.chrome.options import Options\n",
    "from webdriver_manager.chrome import ChromeDriverManager\n",
    "\n",
    "chrome_options = Options()\n",
    "chrome_options.add_argument(\"--headless\")  # Run in headless mode\n",
    "chrome_options.add_argument(\"--disable-blink-features=AutomationControlled\")\n",
    "\n",
    "driver = webdriver.Chrome(service=Service(ChromeDriverManager().install()), options=chrome_options)\n",
    "driver.get(URL)\n",
    "\n",
    "html = driver.page_source\n",
    "soup = BeautifulSoup(html, \"html.parser\")\n",
    "\n",
    "print(soup.prettify())\n",
    "\n",
    "driver.quit()\n"
   ]
  },
  {
   "cell_type": "code",
   "execution_count": null,
   "id": "f1f41b20",
   "metadata": {},
   "outputs": [],
   "source": [
    "pip install selenium"
   ]
  },
  {
   "cell_type": "code",
   "execution_count": null,
   "id": "b2be3467",
   "metadata": {},
   "outputs": [],
   "source": []
  }
 ],
 "metadata": {
  "kernelspec": {
   "display_name": "Python 3 (ipykernel)",
   "language": "python",
   "name": "python3"
  },
  "language_info": {
   "codemirror_mode": {
    "name": "ipython",
    "version": 3
   },
   "file_extension": ".py",
   "mimetype": "text/x-python",
   "name": "python",
   "nbconvert_exporter": "python",
   "pygments_lexer": "ipython3",
   "version": "3.10.7"
  }
 },
 "nbformat": 4,
 "nbformat_minor": 5
}
