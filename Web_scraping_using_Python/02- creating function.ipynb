{
 "cells": [
  {
   "cell_type": "code",
   "execution_count": 1,
   "id": "0114a3ba",
   "metadata": {},
   "outputs": [
    {
     "name": "stderr",
     "output_type": "stream",
     "text": [
      "C:\\Users\\Dell\\AppData\\Local\\Programs\\Python\\Python310\\lib\\site-packages\\requests\\__init__.py:109: RequestsDependencyWarning: urllib3 (2.3.0) or chardet (3.0.4)/charset_normalizer (3.0.1) doesn't match a supported version!\n",
      "  warnings.warn(\n"
     ]
    }
   ],
   "source": [
    "import requests\n",
    "from bs4 import BeautifulSoup\n",
    "import pandas as pd"
   ]
  },
  {
   "cell_type": "code",
   "execution_count": 2,
   "id": "831789a7",
   "metadata": {},
   "outputs": [],
   "source": [
    "URL = \"https://www.magicbricks.com/property-for-sale/residential-real-estate?bedroom=2,3&proptype=Multistorey-Apartment,Builder-Floor-Apartment,Penthouse,Studio-Apartment,Residential-House,Villa&cityName=Mumbai&BudgetMin=5-Lacs\""
   ]
  },
  {
   "cell_type": "code",
   "execution_count": 3,
   "id": "c98882c2",
   "metadata": {},
   "outputs": [],
   "source": [
    "HEADERS = {\n",
    "    \"User-Agent\": \"Mozilla/5.0 (Windows NT 10.0; Win64; x64) AppleWebKit/537.36 (KHTML, like Gecko) Chrome/134.0.0.0 Safari/537.36\",\n",
    "    \"Accept-Language\": \"en-US, en;q=0.5\"\n",
    "}\n"
   ]
  },
  {
   "cell_type": "code",
   "execution_count": 4,
   "id": "3c703f06",
   "metadata": {},
   "outputs": [],
   "source": [
    "#HTTPS requests\n",
    "\n",
    "webpage = requests.get(URL,headers=HEADERS)"
   ]
  },
  {
   "cell_type": "code",
   "execution_count": 5,
   "id": "2ca1c74f",
   "metadata": {},
   "outputs": [
    {
     "data": {
      "text/plain": [
       "<Response [200]>"
      ]
     },
     "execution_count": 5,
     "metadata": {},
     "output_type": "execute_result"
    }
   ],
   "source": [
    "webpage"
   ]
  },
  {
   "cell_type": "code",
   "execution_count": 6,
   "id": "65f17585",
   "metadata": {},
   "outputs": [],
   "source": [
    "#the webpage will be parsed into HTML\n",
    "\n",
    "soup = BeautifulSoup(webpage.content,\"html.parser\")"
   ]
  },
  {
   "cell_type": "code",
   "execution_count": 7,
   "id": "41f882d9",
   "metadata": {},
   "outputs": [],
   "source": [
    "#soup"
   ]
  },
  {
   "cell_type": "code",
   "execution_count": 8,
   "id": "91d4b24a",
   "metadata": {},
   "outputs": [],
   "source": [
    "#Fetch links as LIST of tag object\n",
    "\n",
    "links = soup.find_all(\"a\",attrs={'class':'mb-srp__card__developer--name'})"
   ]
  },
  {
   "cell_type": "code",
   "execution_count": 10,
   "id": "9977553a",
   "metadata": {},
   "outputs": [],
   "source": [
    "links_list = []"
   ]
  },
  {
   "cell_type": "code",
   "execution_count": 11,
   "id": "bbb04408",
   "metadata": {},
   "outputs": [],
   "source": [
    "for link in links:\n",
    "    links_list.append(link.get('href'))"
   ]
  },
  {
   "cell_type": "code",
   "execution_count": 46,
   "id": "63473c6c",
   "metadata": {},
   "outputs": [],
   "source": [
    "title_list = []"
   ]
  },
  {
   "cell_type": "code",
   "execution_count": 36,
   "id": "e6859c3e",
   "metadata": {},
   "outputs": [],
   "source": [
    "price_range = []"
   ]
  },
  {
   "cell_type": "code",
   "execution_count": 47,
   "id": "868fa882",
   "metadata": {},
   "outputs": [],
   "source": [
    "for link in links_list:\n",
    "    new_webpage = requests.get(link,headers=HEADERS)\n",
    "    \n",
    "    new_soup = BeautifulSoup(new_webpage.content,\"html.parser\")\n",
    "    \n",
    "    title =new_soup.find(\"div\",attrs={\"class\":'pdp-layout'}).find(\"div\",attrs={\"class\":\"pdp__name\"}).text.split(\"Reviews\")[0].strip()\n",
    "\n",
    "    title_list.append(title)\n",
    "    \n",
    "    "
   ]
  },
  {
   "cell_type": "code",
   "execution_count": 48,
   "id": "d7ed1763",
   "metadata": {},
   "outputs": [
    {
     "data": {
      "text/plain": [
       "['L&T Rejuve 3605',\n",
       " 'RNA NG Grand Empire',\n",
       " 'Promont By Sheth Realty and Aakshaya Realty',\n",
       " 'Vivan Heights',\n",
       " 'Blue Regency II',\n",
       " 'Ashwin Sheth Edmont Aurelia1 Review',\n",
       " 'CCI Rivali Park Stargaze',\n",
       " 'Kalpataru Elitus3',\n",
       " 'Rustomjee Stella',\n",
       " 'L&T Rejuve 3605',\n",
       " 'Bharat altavista',\n",
       " 'Runwal Bliss34',\n",
       " 'Mahindra Vista',\n",
       " 'Hubtown Seasons8',\n",
       " 'Piramal Aranya 16']"
      ]
     },
     "execution_count": 48,
     "metadata": {},
     "output_type": "execute_result"
    }
   ],
   "source": [
    "title_list"
   ]
  },
  {
   "cell_type": "code",
   "execution_count": 37,
   "id": "85f02dc7",
   "metadata": {},
   "outputs": [],
   "source": [
    "for link in links_list:\n",
    "    new_webpage = requests.get(link,headers=HEADERS)\n",
    "    \n",
    "    new_soup = BeautifulSoup(new_webpage.content,\"html.parser\")\n",
    "\n",
    "    price = new_soup.find(\"div\",attrs={\"class\":'pdp__pricecard--price'}).text\n",
    "    \n",
    "    price_range.append(price)\n",
    "    \n",
    "    "
   ]
  },
  {
   "cell_type": "code",
   "execution_count": 38,
   "id": "87f2bf04",
   "metadata": {},
   "outputs": [
    {
     "data": {
      "text/plain": [
       "['₹ 1.65 Cr - ₹ 3.96 Cr',\n",
       " '₹ 80.8 Lac - ₹ 1.11 Cr',\n",
       " '₹ 1.93 Cr - ₹ 3.85 Cr',\n",
       " '₹ 95.0 Lac - ₹ 1.53 Cr',\n",
       " '₹ 2.15 Cr - ₹ 2.23 Cr',\n",
       " '₹ 2.09 Cr - ₹ 3.65 Cr',\n",
       " '₹ 1.72 Cr - ₹ 3.71 Cr',\n",
       " '₹ 2.67 Cr - ₹ 5.74 Cr',\n",
       " '₹ 2.69 Cr - ₹ 3.74 Cr',\n",
       " '₹ 1.65 Cr - ₹ 3.96 Cr',\n",
       " '₹ 5.37 Cr - ₹ 10.85 Cr',\n",
       " '₹ 1.61 Cr - ₹ 4.67 Cr',\n",
       " '₹ 1.69 Cr - ₹ 4.87 Cr',\n",
       " '₹ 2.38 Cr - ₹ 7.31 Cr',\n",
       " '₹ 2.95 Cr - ₹ 15.50 Cr']"
      ]
     },
     "execution_count": 38,
     "metadata": {},
     "output_type": "execute_result"
    }
   ],
   "source": [
    "price_range"
   ]
  },
  {
   "cell_type": "code",
   "execution_count": 64,
   "id": "b781ca0a",
   "metadata": {},
   "outputs": [],
   "source": [
    "reviews_list = []\n",
    "\n",
    "for link in links_list:\n",
    "    new_webpage = requests.get(link,headers=HEADERS)\n",
    "    \n",
    "    new_soup = BeautifulSoup(new_webpage.content,\"html.parser\")\n",
    "    \n",
    "    reviews = new_soup.find(\"div\",attrs={\"class\":'pdp-layout'}).find(\"a\",attrs={\"class\":'pdp__review--count'})\n",
    "    \n",
    "    if reviews==None:\n",
    "        reviews_text = '- No reviews found -'\n",
    "        reviews_list.append(reviews_text)\n",
    "    else:\n",
    "        reviews_text = reviews.text\n",
    "        reviews_list.append(reviews_text)\n"
   ]
  },
  {
   "cell_type": "code",
   "execution_count": 65,
   "id": "701c4315",
   "metadata": {},
   "outputs": [
    {
     "data": {
      "text/plain": [
       "['5 Reviews',\n",
       " '- No reviews found -',\n",
       " '- No reviews found -',\n",
       " '- No reviews found -',\n",
       " '- No reviews found -',\n",
       " '1 Review',\n",
       " '- No reviews found -',\n",
       " '3 Reviews',\n",
       " '- No reviews found -',\n",
       " '5 Reviews',\n",
       " '- No reviews found -',\n",
       " '34 Reviews',\n",
       " '- No reviews found -',\n",
       " '8 Reviews',\n",
       " '16 Reviews']"
      ]
     },
     "execution_count": 65,
     "metadata": {},
     "output_type": "execute_result"
    }
   ],
   "source": [
    "reviews_list"
   ]
  },
  {
   "cell_type": "code",
   "execution_count": 32,
   "id": "22b21c85",
   "metadata": {},
   "outputs": [
    {
     "data": {
      "text/plain": [
       "[]"
      ]
     },
     "execution_count": 32,
     "metadata": {},
     "output_type": "execute_result"
    }
   ],
   "source": [
    "title_list"
   ]
  },
  {
   "cell_type": "code",
   "execution_count": 19,
   "id": "aba6a797",
   "metadata": {},
   "outputs": [
    {
     "data": {
      "text/plain": [
       "['https://www.magicbricks.com/l&t-rejuve-360-mulund-west-mumbai-pdpid-4d4235313238303331',\n",
       " 'https://www.magicbricks.com/rna-ng-grand-empire-navghar-road-mumbai-pdpid-4d4235343231393937',\n",
       " 'https://www.magicbricks.com/promont-by-sheth-realty-and-aakshaya-realty-sion-mumbai-pdpid-4d4235343232373239',\n",
       " 'https://www.magicbricks.com/vivan-heights-chembur-mumbai-pdpid-4d4235343237343033',\n",
       " 'https://www.magicbricks.com/blue-regency-ii-kandivali-west-mumbai-pdpid-4d4235303535383936',\n",
       " 'https://www.magicbricks.com/ashwin-sheth-edmont-aurelia-kandivali-west-mumbai-pdpid-4d4235343137373835',\n",
       " 'https://www.magicbricks.com/cci-rivali-park-stargaze-borivali-east-mumbai-pdpid-4d4235343138303439',\n",
       " 'https://www.magicbricks.com/kalpataru-elitus-mulund-west-mumbai-pdpid-4d4235313338363933',\n",
       " 'https://www.magicbricks.com/rustomjee-stella-bandra-east-mumbai-pdpid-4d4235343138353039',\n",
       " 'https://www.magicbricks.com/l&t-rejuve-360-mulund-west-mumbai-pdpid-4d4235313238303331',\n",
       " 'https://www.magicbricks.com/bharat-altavista-andheri-west-mumbai-pdpid-4d4235343234343633',\n",
       " 'https://www.magicbricks.com/runwal-bliss-kanjurmarg-east-mumbai-pdpid-4d4235303733343034',\n",
       " 'https://www.magicbricks.com/mahindra-vista-kandivali-east-mumbai-pdpid-4d4235343138383837',\n",
       " 'https://www.magicbricks.com/hubtown-seasons-chembur-mumbai-pdpid-4d4235303236353336',\n",
       " 'https://www.magicbricks.com/piramal-aranya-byculla-mumbai-pdpid-4d4235303933313135']"
      ]
     },
     "execution_count": 19,
     "metadata": {},
     "output_type": "execute_result"
    }
   ],
   "source": [
    "links_list"
   ]
  },
  {
   "cell_type": "code",
   "execution_count": 24,
   "id": "80158cfd",
   "metadata": {},
   "outputs": [],
   "source": [
    "def get_title(soup):\n",
    "    try:\n",
    "        title = soup.find(\"div\",attrs={\"class\":'pdp__name'}).text.split(\"Reviews\")[0].strip()\n",
    "    except Exception as e:\n",
    "        print('Error:',e)\n",
    "        raise\n",
    "\n",
    "def get_price_range(soup):\n",
    "    try:\n",
    "        price_range=soup.find(\"div\",attrs={\"class\":'pdp__pricecard--price'}).text\n",
    "        if price_range==None:\n",
    "            price_range='No reviews found'\n",
    "    except Exception as e:\n",
    "        print('Error:',e)\n",
    "        raise\n",
    "\n",
    "def get_reviews(soup):\n",
    "    try:\n",
    "        reviews = new_soup.find(\"div\",attrs={\"class\":'pdp-layout'}).find(\"a\",attrs={\"class\":'pdp__review--count'})\n",
    "    \n",
    "    if reviews==None:\n",
    "        reviews_text = '- No reviews found -'\n",
    "        reviews_list.append(reviews_text)\n",
    "    else:\n",
    "        reviews_text = reviews.text\n",
    "        reviews_list.append(reviews_text)\n",
    "    except Exception as e:\n",
    "        print('Error:',e)\n",
    "        raise"
   ]
  },
  {
   "cell_type": "code",
   "execution_count": 20,
   "id": "34b4c896",
   "metadata": {},
   "outputs": [],
   "source": [
    "d = {'title':[],\n",
    "    'price_range':[],\n",
    "    'reviews':[]}"
   ]
  },
  {
   "cell_type": "code",
   "execution_count": 25,
   "id": "25f0db78",
   "metadata": {},
   "outputs": [
    {
     "name": "stdout",
     "output_type": "stream",
     "text": [
      "Error: 'NoneType' object has no attribute 'text'\n"
     ]
    },
    {
     "ename": "AttributeError",
     "evalue": "'NoneType' object has no attribute 'text'",
     "output_type": "error",
     "traceback": [
      "\u001b[1;31m---------------------------------------------------------------------------\u001b[0m",
      "\u001b[1;31mAttributeError\u001b[0m                            Traceback (most recent call last)",
      "Cell \u001b[1;32mIn[25], line 8\u001b[0m\n\u001b[0;32m      6\u001b[0m     d[\u001b[38;5;124m'\u001b[39m\u001b[38;5;124mtitle\u001b[39m\u001b[38;5;124m'\u001b[39m]\u001b[38;5;241m.\u001b[39mappend(get_title(new_soup))\n\u001b[0;32m      7\u001b[0m     d[\u001b[38;5;124m'\u001b[39m\u001b[38;5;124mprice_range\u001b[39m\u001b[38;5;124m'\u001b[39m]\u001b[38;5;241m.\u001b[39mappend(get_price_range(new_soup))\n\u001b[1;32m----> 8\u001b[0m     d[\u001b[38;5;124m'\u001b[39m\u001b[38;5;124mreviews\u001b[39m\u001b[38;5;124m'\u001b[39m]\u001b[38;5;241m.\u001b[39mappend(\u001b[43mget_reviews\u001b[49m\u001b[43m(\u001b[49m\u001b[43mnew_soup\u001b[49m\u001b[43m)\u001b[49m)\n\u001b[0;32m     12\u001b[0m property_details \u001b[38;5;241m=\u001b[39m pd\u001b[38;5;241m.\u001b[39mDataFrame\u001b[38;5;241m.\u001b[39mfrom_dict(d)\n",
      "Cell \u001b[1;32mIn[24], line 19\u001b[0m, in \u001b[0;36mget_reviews\u001b[1;34m(soup)\u001b[0m\n\u001b[0;32m     17\u001b[0m \u001b[38;5;28;01mdef\u001b[39;00m \u001b[38;5;21mget_reviews\u001b[39m(soup):\n\u001b[0;32m     18\u001b[0m     \u001b[38;5;28;01mtry\u001b[39;00m:\n\u001b[1;32m---> 19\u001b[0m         reviews\u001b[38;5;241m=\u001b[39m\u001b[43msoup\u001b[49m\u001b[38;5;241;43m.\u001b[39;49m\u001b[43mfind\u001b[49m\u001b[43m(\u001b[49m\u001b[38;5;124;43m\"\u001b[39;49m\u001b[38;5;124;43ma\u001b[39;49m\u001b[38;5;124;43m\"\u001b[39;49m\u001b[43m,\u001b[49m\u001b[43mattrs\u001b[49m\u001b[38;5;241;43m=\u001b[39;49m\u001b[43m{\u001b[49m\u001b[38;5;124;43m\"\u001b[39;49m\u001b[38;5;124;43mclass\u001b[39;49m\u001b[38;5;124;43m\"\u001b[39;49m\u001b[43m:\u001b[49m\u001b[38;5;124;43m'\u001b[39;49m\u001b[38;5;124;43mpdp__review--count\u001b[39;49m\u001b[38;5;124;43m'\u001b[39;49m\u001b[43m}\u001b[49m\u001b[43m)\u001b[49m\u001b[38;5;241;43m.\u001b[39;49m\u001b[43mtext\u001b[49m\n\u001b[0;32m     20\u001b[0m     \u001b[38;5;28;01mexcept\u001b[39;00m \u001b[38;5;167;01mException\u001b[39;00m \u001b[38;5;28;01mas\u001b[39;00m e:\n\u001b[0;32m     21\u001b[0m         \u001b[38;5;28mprint\u001b[39m(\u001b[38;5;124m'\u001b[39m\u001b[38;5;124mError:\u001b[39m\u001b[38;5;124m'\u001b[39m,e)\n",
      "\u001b[1;31mAttributeError\u001b[0m: 'NoneType' object has no attribute 'text'"
     ]
    }
   ],
   "source": [
    "for link in links_list:\n",
    "    new_webpage = requests.get(link,headers=HEADERS)\n",
    "    \n",
    "    new_soup = BeautifulSoup(new_webpage.content,\"html.parser\")\n",
    "\n",
    "    d['title'].append(get_title(new_soup))\n",
    "    d['price_range'].append(get_price_range(new_soup))\n",
    "    d['reviews'].append(get_reviews(new_soup))\n",
    "    \n",
    "\n",
    "\n",
    "property_details = pd.DataFrame.from_dict(d)"
   ]
  },
  {
   "cell_type": "code",
   "execution_count": null,
   "id": "5e7eff5c",
   "metadata": {},
   "outputs": [],
   "source": []
  },
  {
   "cell_type": "code",
   "execution_count": null,
   "id": "7c1136a1",
   "metadata": {},
   "outputs": [],
   "source": []
  },
  {
   "cell_type": "code",
   "execution_count": 13,
   "id": "f989464c",
   "metadata": {},
   "outputs": [],
   "source": [
    "new_webpage = requests.get(link,headers=HEADERS)"
   ]
  },
  {
   "cell_type": "code",
   "execution_count": 15,
   "id": "cc94c28f",
   "metadata": {},
   "outputs": [],
   "source": [
    "new_soup = BeautifulSoup(new_webpage.content,\"html.parser\")"
   ]
  },
  {
   "cell_type": "code",
   "execution_count": 35,
   "id": "ff6736c0",
   "metadata": {},
   "outputs": [
    {
     "data": {
      "text/plain": [
       "'L&T Rejuve 3605'"
      ]
     },
     "execution_count": 35,
     "metadata": {},
     "output_type": "execute_result"
    }
   ],
   "source": [
    "new_soup.find(\"div\",attrs={\"class\":'pdp__name'}).text.split(\"Reviews\")[0].strip()"
   ]
  },
  {
   "cell_type": "code",
   "execution_count": 31,
   "id": "15e4ef3b",
   "metadata": {},
   "outputs": [
    {
     "data": {
      "text/plain": [
       "'₹ 1.65 Cr - ₹ 3.96 Cr'"
      ]
     },
     "execution_count": 31,
     "metadata": {},
     "output_type": "execute_result"
    }
   ],
   "source": [
    "new_soup.find(\"div\",attrs={\"class\":'pdp__pricecard--price'}).text"
   ]
  },
  {
   "cell_type": "code",
   "execution_count": 44,
   "id": "1a940107",
   "metadata": {},
   "outputs": [
    {
     "data": {
      "text/plain": [
       "'5 Reviews'"
      ]
     },
     "execution_count": 44,
     "metadata": {},
     "output_type": "execute_result"
    }
   ],
   "source": [
    "new_soup.find(\"a\",attrs={\"class\":'pdp__review--count'}).text"
   ]
  },
  {
   "cell_type": "code",
   "execution_count": null,
   "id": "e9116899",
   "metadata": {},
   "outputs": [],
   "source": [
    "df = pd.DataFrame({\n",
    "    \"Name\": name,\n",
    "    \"Price\": price,\n",
    "    \"Reviews\": reviews,\n",
    "    \"Links\": links\n",
    "})"
   ]
  },
  {
   "cell_type": "code",
   "execution_count": null,
   "id": "8fb2773d",
   "metadata": {},
   "outputs": [],
   "source": [
    "import requests\n",
    "from requests.adapters import HTTPAdapter\n",
    "from urllib3.util.retry import Retry\n",
    "from bs4 import BeautifulSoup\n",
    "\n",
    "URL = \"https://www.amazon.com/s?k=playstation&crid=27RI89K07OC0V&sprefix=playstation%2Caps%2C328&ref=nb_sb_noss_1\"\n",
    "\n",
    "HEADERS = {\n",
    "    \"User-Agent\": \"Mozilla/5.0 (Windows NT 10.0; Win64; x64) AppleWebKit/537.36 (KHTML, like Gecko) Chrome/134.0.0.0 Safari/537.36\",\n",
    "    \"Accept-Language\": \"en-US, en;q=0.5\"\n",
    "}\n",
    "\n",
    "session = requests.Session()\n",
    "retry = Retry(total=5, backoff_factor=1, status_forcelist=[503, 500, 429])\n",
    "adapter = HTTPAdapter(max_retries=retry)\n",
    "session.mount(\"https://\", adapter)\n",
    "\n",
    "webpage = session.get(URL, headers=HEADERS)\n",
    "\n",
    "if webpage.status_code == 200:\n",
    "    soup = BeautifulSoup(webpage.content, \"html.parser\")\n",
    "    print(soup.prettify())  # Print the parsed HTML\n",
    "else:\n",
    "    print(f\"Request failed with status code {webpage.status_code}\")\n"
   ]
  },
  {
   "cell_type": "code",
   "execution_count": null,
   "id": "242e55b5",
   "metadata": {},
   "outputs": [],
   "source": [
    "proxies = {\n",
    "    \"http\": \"http://your-proxy-address:port\",\n",
    "    \"https\": \"https://your-proxy-address:port\"\n",
    "}\n",
    "\n",
    "webpage = requests.get(URL, headers=HEADERS, proxies=proxies)\n"
   ]
  },
  {
   "cell_type": "code",
   "execution_count": null,
   "id": "4328458f",
   "metadata": {},
   "outputs": [],
   "source": [
    "from selenium import webdriver\n",
    "from selenium.webdriver.chrome.service import Service\n",
    "from selenium.webdriver.chrome.options import Options\n",
    "from webdriver_manager.chrome import ChromeDriverManager\n",
    "\n",
    "chrome_options = Options()\n",
    "chrome_options.add_argument(\"--headless\")  # Run in headless mode\n",
    "chrome_options.add_argument(\"--disable-blink-features=AutomationControlled\")\n",
    "\n",
    "driver = webdriver.Chrome(service=Service(ChromeDriverManager().install()), options=chrome_options)\n",
    "driver.get(URL)\n",
    "\n",
    "html = driver.page_source\n",
    "soup = BeautifulSoup(html, \"html.parser\")\n",
    "\n",
    "print(soup.prettify())\n",
    "\n",
    "driver.quit()\n"
   ]
  },
  {
   "cell_type": "code",
   "execution_count": null,
   "id": "f1f41b20",
   "metadata": {},
   "outputs": [],
   "source": [
    "pip install selenium"
   ]
  },
  {
   "cell_type": "code",
   "execution_count": null,
   "id": "b2be3467",
   "metadata": {},
   "outputs": [],
   "source": [
    "for link in links_list:\n",
    "    new_webpage = requests.get(link,headers=HEADERS)\n",
    "    \n",
    "    new_soup = BeautifulSoup(new_webpage.content,\"html.parser\")\n",
    "    \n",
    "    location = soup.find(\"div\",attrs={\"class\":'pdp-layout'})"
   ]
  },
  {
   "cell_type": "code",
   "execution_count": 76,
   "id": "0b8b9f90",
   "metadata": {},
   "outputs": [
    {
     "data": {
      "text/plain": [
       "'Byculla, Mumbai'"
      ]
     },
     "execution_count": 76,
     "metadata": {},
     "output_type": "execute_result"
    }
   ],
   "source": [
    "new_soup.find(\"div\",attrs={\"class\":'pdp-layout'}).find(\"div\",attrs={\"class\":'pdp__location'}).text"
   ]
  },
  {
   "cell_type": "code",
   "execution_count": 68,
   "id": "5e45dda8",
   "metadata": {},
   "outputs": [],
   "source": [
    "    reviews = new_soup.find(\"div\",attrs={\"class\":'pdp-layout'}).find(\"a\",attrs={\"class\":'pdp__review--count'})\n"
   ]
  },
  {
   "cell_type": "code",
   "execution_count": 79,
   "id": "36c241ae",
   "metadata": {},
   "outputs": [
    {
     "data": {
      "text/plain": [
       "'4.4'"
      ]
     },
     "execution_count": 79,
     "metadata": {},
     "output_type": "execute_result"
    }
   ],
   "source": [
    "new_soup.find(\"div\",attrs={\"class\":'pdp-layout'}).find(\"span\",attrs={\"class\":'pdp__review--star'}).text"
   ]
  },
  {
   "cell_type": "code",
   "execution_count": null,
   "id": "428e8e09",
   "metadata": {},
   "outputs": [],
   "source": []
  }
 ],
 "metadata": {
  "kernelspec": {
   "display_name": "Python 3 (ipykernel)",
   "language": "python",
   "name": "python3"
  },
  "language_info": {
   "codemirror_mode": {
    "name": "ipython",
    "version": 3
   },
   "file_extension": ".py",
   "mimetype": "text/x-python",
   "name": "python",
   "nbconvert_exporter": "python",
   "pygments_lexer": "ipython3",
   "version": "3.10.7"
  }
 },
 "nbformat": 4,
 "nbformat_minor": 5
}
