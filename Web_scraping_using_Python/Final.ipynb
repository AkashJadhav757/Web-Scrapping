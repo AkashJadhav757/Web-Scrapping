{
 "cells": [
  {
   "cell_type": "code",
   "execution_count": 1,
   "id": "0114a3ba",
   "metadata": {},
   "outputs": [
    {
     "name": "stderr",
     "output_type": "stream",
     "text": [
      "C:\\Users\\Dell\\AppData\\Local\\Programs\\Python\\Python310\\lib\\site-packages\\requests\\__init__.py:109: RequestsDependencyWarning: urllib3 (2.3.0) or chardet (3.0.4)/charset_normalizer (3.0.1) doesn't match a supported version!\n",
      "  warnings.warn(\n"
     ]
    }
   ],
   "source": [
    "import requests\n",
    "from bs4 import BeautifulSoup\n",
    "import pandas as pd\n",
    "from datetime import datetime"
   ]
  },
  {
   "cell_type": "code",
   "execution_count": 2,
   "id": "831789a7",
   "metadata": {},
   "outputs": [],
   "source": [
    "#Mumbai\n",
    "\n",
    "URL = \"https://www.magicbricks.com/property-for-sale/residential-real-estate?bedroom=2,3&proptype=Multistorey-Apartment,Builder-Floor-Apartment,Penthouse,Studio-Apartment,Residential-House,Villa&cityName=Mumbai&BudgetMin=5-Lacs\""
   ]
  },
  {
   "cell_type": "code",
   "execution_count": 3,
   "id": "8a8de664",
   "metadata": {},
   "outputs": [],
   "source": [
    "#Bangalore\n",
    "#URL =\"https://www.magicbricks.com/property-for-sale/residential-real-estate?bedroom=2,3&proptype=Multistorey-Apartment,Builder-Floor-Apartment,Penthouse,Studio-Apartment,Residential-House,Villa&cityName=Bangalore&BudgetMin=5-Lacs\""
   ]
  },
  {
   "cell_type": "code",
   "execution_count": 4,
   "id": "c98882c2",
   "metadata": {},
   "outputs": [],
   "source": [
    "HEADERS = {\n",
    "    \"User-Agent\": \"Mozilla/5.0 (Windows NT 10.0; Win64; x64) AppleWebKit/537.36 (KHTML, like Gecko) Chrome/134.0.0.0 Safari/537.36\",\n",
    "    \"Accept-Language\": \"en-US, en;q=0.5\"\n",
    "}\n"
   ]
  },
  {
   "cell_type": "code",
   "execution_count": 5,
   "id": "3c703f06",
   "metadata": {},
   "outputs": [],
   "source": [
    "#HTTPS requests\n",
    "\n",
    "webpage = requests.get(URL,headers=HEADERS)"
   ]
  },
  {
   "cell_type": "code",
   "execution_count": 6,
   "id": "2ca1c74f",
   "metadata": {},
   "outputs": [
    {
     "data": {
      "text/plain": [
       "<Response [200]>"
      ]
     },
     "execution_count": 6,
     "metadata": {},
     "output_type": "execute_result"
    }
   ],
   "source": [
    "webpage"
   ]
  },
  {
   "cell_type": "code",
   "execution_count": 7,
   "id": "65f17585",
   "metadata": {},
   "outputs": [],
   "source": [
    "#the webpage will be parsed into HTML\n",
    "\n",
    "soup = BeautifulSoup(webpage.content,\"html.parser\")"
   ]
  },
  {
   "cell_type": "code",
   "execution_count": 8,
   "id": "91d4b24a",
   "metadata": {},
   "outputs": [],
   "source": [
    "#Fetch links as LIST of tag object\n",
    "\n",
    "links = soup.find_all(\"a\",attrs={'class':'mb-srp__card__developer--name'})"
   ]
  },
  {
   "cell_type": "code",
   "execution_count": 9,
   "id": "9977553a",
   "metadata": {},
   "outputs": [],
   "source": [
    "links_list = []"
   ]
  },
  {
   "cell_type": "code",
   "execution_count": 10,
   "id": "bbb04408",
   "metadata": {},
   "outputs": [],
   "source": [
    "for link in links:\n",
    "    links_list.append(link.get('href'))"
   ]
  },
  {
   "cell_type": "code",
   "execution_count": 11,
   "id": "3a790178",
   "metadata": {},
   "outputs": [
    {
     "data": {
      "text/plain": [
       "['https://www.magicbricks.com/l&t-rejuve-360-mulund-west-mumbai-pdpid-4d4235313238303331',\n",
       " 'https://www.magicbricks.com/rna-ng-grand-empire-navghar-road-mumbai-pdpid-4d4235343231393937',\n",
       " 'https://www.magicbricks.com/promont-by-sheth-realty-and-aakshaya-realty-sion-mumbai-pdpid-4d4235343232373239',\n",
       " 'https://www.magicbricks.com/vivan-heights-chembur-mumbai-pdpid-4d4235343237343033',\n",
       " 'https://www.magicbricks.com/blue-regency-ii-kandivali-west-mumbai-pdpid-4d4235303535383936',\n",
       " 'https://www.magicbricks.com/ashwin-sheth-edmont-aurelia-kandivali-west-mumbai-pdpid-4d4235343137373835',\n",
       " 'https://www.magicbricks.com/cci-rivali-park-stargaze-borivali-east-mumbai-pdpid-4d4235343138303439',\n",
       " 'https://www.magicbricks.com/kalpataru-elitus-mulund-west-mumbai-pdpid-4d4235313338363933',\n",
       " 'https://www.magicbricks.com/rustomjee-stella-bandra-east-mumbai-pdpid-4d4235343138353039',\n",
       " 'https://www.magicbricks.com/epsilon-kandivali-east-mumbai-pdpid-4d4235303930383337',\n",
       " 'https://www.magicbricks.com/l&t-rejuve-360-mulund-west-mumbai-pdpid-4d4235313238303331',\n",
       " 'https://www.magicbricks.com/bharat-altavista-andheri-west-mumbai-pdpid-4d4235343234343633',\n",
       " 'https://www.magicbricks.com/runwal-bliss-kanjurmarg-east-mumbai-pdpid-4d4235303733343034',\n",
       " 'https://www.magicbricks.com/mahindra-vista-kandivali-east-mumbai-pdpid-4d4235343138383837',\n",
       " 'https://www.magicbricks.com/hubtown-seasons-chembur-mumbai-pdpid-4d4235303236353336',\n",
       " 'https://www.magicbricks.com/piramal-aranya-byculla-mumbai-pdpid-4d4235303933313135']"
      ]
     },
     "execution_count": 11,
     "metadata": {},
     "output_type": "execute_result"
    }
   ],
   "source": [
    "links_list"
   ]
  },
  {
   "cell_type": "code",
   "execution_count": 12,
   "id": "868fa882",
   "metadata": {},
   "outputs": [],
   "source": [
    "#Fetching Titles\n",
    "\n",
    "title_list = []\n",
    "price_range = []\n",
    "reviews_list = []\n",
    "location_list = []\n",
    "\n",
    "for link in links_list:\n",
    "    new_webpage = requests.get(link,headers=HEADERS)\n",
    "    \n",
    "    new_soup = BeautifulSoup(new_webpage.content,\"html.parser\")\n",
    "    \n",
    "    #Title \n",
    "    title =new_soup.find(\"div\",attrs={\"class\":'pdp-layout'}).find(\"div\",attrs={\"class\":\"pdp__name\"}).text.split(\"Reviews\")[0].strip()\n",
    "    title_list.append(title)\n",
    "    \n",
    "    #Location\n",
    "    location = new_soup.find(\"div\",attrs={\"class\":'pdp-layout'}).find(\"div\",attrs={\"class\":'pdp__location'}).text\n",
    "    location_list.append(location)\n",
    "    \n",
    "    #Price range\n",
    "    price = new_soup.find(\"div\",attrs={\"class\":'pdp__pricecard--price'}).text\n",
    "    price_range.append(price)   \n",
    "    \n",
    "    #Reviews\n",
    "    reviews = new_soup.find(\"div\",attrs={\"class\":'pdp-layout'}).find(\"span\",attrs={\"class\":'pdp__review--star'})\n",
    "    \n",
    "    if reviews==None:\n",
    "        reviews_text = '- No reviews found -'\n",
    "        reviews_list.append(reviews_text)\n",
    "    else:\n",
    "        reviews_text = reviews.text\n",
    "        reviews_list.append(reviews_text)\n",
    "    \n",
    "    "
   ]
  },
  {
   "cell_type": "code",
   "execution_count": 13,
   "id": "77b835db",
   "metadata": {},
   "outputs": [],
   "source": [
    "data = pd.DataFrame({\n",
    "    \"Property_Name\": title_list,\n",
    "    \"Location\":location_list,\n",
    "    \"Price_Range\": price_range,\n",
    "    \"Ratings\": reviews_list,\n",
    "    \"Web_page_link\": links_list\n",
    "})"
   ]
  },
  {
   "cell_type": "code",
   "execution_count": 14,
   "id": "68a63eeb",
   "metadata": {
    "scrolled": true
   },
   "outputs": [],
   "source": [
    "#data"
   ]
  },
  {
   "cell_type": "code",
   "execution_count": 15,
   "id": "55973498",
   "metadata": {},
   "outputs": [],
   "source": [
    "#Current time stamp\n",
    "\n",
    "current_time = datetime.now().strftime('%d-%m-%Y')"
   ]
  },
  {
   "cell_type": "code",
   "execution_count": 16,
   "id": "24544b6e",
   "metadata": {},
   "outputs": [
    {
     "name": "stdout",
     "output_type": "stream",
     "text": [
      "File loaded succesfully\n"
     ]
    }
   ],
   "source": [
    "#Loading Excel file\n",
    "\n",
    "try:\n",
    "    data.to_excel(r'E:\\web_scraping\\property_details_'+current_time+'.xlsx', index=False)\n",
    "    print(\"File loaded succesfully\")\n",
    "except Exception as e:\n",
    "    print(\"File load Failed, Error:\",e)"
   ]
  },
  {
   "cell_type": "code",
   "execution_count": null,
   "id": "c727089f",
   "metadata": {},
   "outputs": [],
   "source": []
  }
 ],
 "metadata": {
  "kernelspec": {
   "display_name": "Python 3 (ipykernel)",
   "language": "python",
   "name": "python3"
  },
  "language_info": {
   "codemirror_mode": {
    "name": "ipython",
    "version": 3
   },
   "file_extension": ".py",
   "mimetype": "text/x-python",
   "name": "python",
   "nbconvert_exporter": "python",
   "pygments_lexer": "ipython3",
   "version": "3.10.7"
  }
 },
 "nbformat": 4,
 "nbformat_minor": 5
}
